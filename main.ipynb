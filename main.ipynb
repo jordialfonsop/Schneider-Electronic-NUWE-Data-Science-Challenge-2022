{
 "cells": [
  {
   "cell_type": "code",
   "execution_count": 34,
   "metadata": {},
   "outputs": [],
   "source": [
    "import json \n",
    "import pandas as pd\n",
    "import csv\n",
    "import matplotlib.pyplot as plt\n",
    "from sklearn import preprocessing\n",
    "from sklearn.preprocessing import LabelEncoder\n",
    "import io\n",
    "import os \n",
    "import torch.nn as nn \n",
    "import torch \n",
    "import seaborn as sns\n",
    "import numpy as np\n",
    "from pdfminer.converter import TextConverter\n",
    "from pdfminer.pdfinterp import PDFPageInterpreter\n",
    "from pdfminer.pdfinterp import PDFResourceManager\n",
    "from pdfminer.pdfpage import PDFPage\n",
    "from collections import Counter\n",
    "from sklearn.tree import DecisionTreeClassifier\n",
    "from sklearn.model_selection import train_test_split\n",
    "from sklearn.metrics import confusion_matrix, precision_score, recall_score, precision_recall_curve\n",
    "from sklearn.ensemble import RandomForestClassifier, GradientBoostingClassifier\n",
    "from sklearn.neighbors import KNeighborsClassifier\n",
    "from sklearn.metrics import classification_report\n",
    "from scipy import stats\n",
    "from sklearn.metrics import f1_score\n",
    "from numpy import savetxt"
   ]
  },
  {
   "cell_type": "markdown",
   "metadata": {},
   "source": [
    "# Data preparation"
   ]
  },
  {
   "cell_type": "markdown",
   "metadata": {},
   "source": [
    "## TRAIN 1 - 2 CSV"
   ]
  },
  {
   "cell_type": "code",
   "execution_count": 2,
   "metadata": {},
   "outputs": [
    {
     "name": "stderr",
     "output_type": "stream",
     "text": [
      "<ipython-input-2-550e3e530c4f>:2: ParserWarning: Falling back to the 'python' engine because the 'c' engine does not support regex separators (separators > 1 char and different from '\\s+' are interpreted as regex); you can avoid this warning by specifying engine='python'.\n",
      "  train_2 = pd.read_csv('train2.csv', sep='delimiter', header=None)\n"
     ]
    }
   ],
   "source": [
    "train_1 = pd.read_csv('train1.csv')\n",
    "train_2 = pd.read_csv('train2.csv', sep='delimiter', header=None)\n",
    "train_2 = train_2[0].str.split(';', expand=True)\n",
    "train_2.columns = train_2.iloc[0] \n",
    "train_2 = train_2[1:]\n",
    "test_x = pd.read_csv('test_x.csv')"
   ]
  },
  {
   "cell_type": "markdown",
   "metadata": {},
   "source": [
    "## TRAIN 3, 4, 5 - JSON"
   ]
  },
  {
   "cell_type": "code",
   "execution_count": 3,
   "metadata": {},
   "outputs": [],
   "source": [
    "# store the URL in url as \n",
    "# parameter for read_json\n",
    "url3 = \"http://schneiderapihack-env.eba-3ais9akk.us-east-2.elasticbeanstalk.com/first\"\n",
    "  \n",
    "# store the response of URL into pandas table\n",
    "train_3 = pd.read_json(url3)\n",
    "\n",
    "#sort columns by name\n",
    "train_3 = train_3.reindex(sorted(train_3.columns), axis=1)\n",
    "\n",
    "#drop unique columns to align with csvs\n",
    "train_3.drop('', inplace=True, axis=1)\n",
    "train_3.drop('EPRTRAnnexIMainActivityCode', inplace=True, axis=1)\n",
    "train_3.drop('EPRTRSectorCode', inplace=True, axis=1)"
   ]
  },
  {
   "cell_type": "code",
   "execution_count": 4,
   "metadata": {},
   "outputs": [],
   "source": [
    "# store the URL in url as \n",
    "# parameter for read_json\n",
    "url4 = \"http://schneiderapihack-env.eba-3ais9akk.us-east-2.elasticbeanstalk.com/second\"\n",
    "\n",
    "# store the response of URL into pandas table\n",
    "train_4 = pd.read_json(url4)\n",
    "\n",
    "#sort columns by name\n",
    "train_4 = train_4.reindex(sorted(train_4.columns), axis=1)\n",
    "\n",
    "#drop unique columns to align with csvs\n",
    "train_4.drop('', inplace=True, axis=1)\n",
    "train_4.drop('EPRTRAnnexIMainActivityCode', inplace=True, axis=1)\n",
    "train_4.drop('EPRTRSectorCode', inplace=True, axis=1)"
   ]
  },
  {
   "cell_type": "code",
   "execution_count": 5,
   "metadata": {},
   "outputs": [],
   "source": [
    "# store the URL in url as \n",
    "# parameter for read_json\n",
    "url5 = \"http://schneiderapihack-env.eba-3ais9akk.us-east-2.elasticbeanstalk.com/third\"\n",
    "  \n",
    "# store the response of URL into pandas table\n",
    "train_5 = pd.read_json(url5)\n",
    "\n",
    "#sort columns by name\n",
    "train_5 = train_5.reindex(sorted(train_5.columns), axis=1)\n",
    "\n",
    "#drop unique columns to align with csvs\n",
    "train_5.drop('', inplace=True, axis=1)\n",
    "train_5.drop('EPRTRAnnexIMainActivityCode', inplace=True, axis=1)\n",
    "train_5.drop('EPRTRSectorCode', inplace=True, axis=1)"
   ]
  },
  {
   "cell_type": "markdown",
   "metadata": {},
   "source": [
    "## TRAIN 6 - PDFs"
   ]
  },
  {
   "cell_type": "code",
   "execution_count": 6,
   "metadata": {},
   "outputs": [],
   "source": [
    "def extract_text_from_pdf(pdf_path):\n",
    "    \"\"\"\n",
    "    This function extracts text from pdf file and return text as string.\n",
    "    :param pdf_path: path to pdf file.\n",
    "    :return: text string containing text of pdf.\n",
    "    \"\"\"\n",
    "    resource_manager = PDFResourceManager()\n",
    "    fake_file_handle = io.StringIO()\n",
    "    converter = TextConverter(resource_manager, fake_file_handle)\n",
    "    page_interpreter = PDFPageInterpreter(resource_manager, converter)\n",
    "\n",
    "    with open(pdf_path, 'rb') as fh:\n",
    "        for page in PDFPage.get_pages(fh, caching=True, check_extractable=True):\n",
    "            page_interpreter.process_page(page)\n",
    "\n",
    "        text = fake_file_handle.getvalue()\n",
    "\n",
    "    # close open handles\n",
    "    converter.close()\n",
    "    fake_file_handle.close()\n",
    "\n",
    "    if text:\n",
    "        return text\n",
    "    return None\n"
   ]
  },
  {
   "cell_type": "code",
   "execution_count": 7,
   "metadata": {},
   "outputs": [],
   "source": [
    "def format_pdf(text):\n",
    "    text_aux = text.split(':')\n",
    "    new_input = []\n",
    "    match2 = ''\n",
    "    for t in text_aux:\n",
    "        new_text = t\n",
    "        match = [header for header in cols_translation.keys() if(header in t)]\n",
    "        if len(match)!=0:\n",
    "            new_text = t.replace(match[0],cols_translation[match[0]])\n",
    "        else: \n",
    "            match2 = [col for col in same_cols if(col in t)]\n",
    "            if len(match2)!=0:\n",
    "                new_text = t.replace(match2[0], ';'+match2[0])\n",
    "        new_input.append(new_text)\n",
    "\n",
    "    new = \": \".join(new_input)\n",
    "    return new"
   ]
  },
  {
   "cell_type": "code",
   "execution_count": 8,
   "metadata": {},
   "outputs": [],
   "source": [
    "def text_to_dict(pdf_string):\n",
    "    col_values = pdf_string.split(\";\")\n",
    "    col_values_ = []\n",
    "    for e in col_values: \n",
    "        pair = e.split(': ')\n",
    "        pair[0] = '\"' +pair[0] + '\"'\n",
    "        pair[1] = '\"' +pair[1] + '\"'\n",
    "        fixed_pair = \": \".join(pair)\n",
    "        col_values_.append(fixed_pair)\n",
    "\n",
    "    text = \"{\"+\",\".join(col_values_)+\"}\"\n",
    "    text = text.replace('\\x0c', '')\n",
    "    pdf_dict = json.loads(text)\n",
    "    return pdf_dict \n"
   ]
  },
  {
   "cell_type": "code",
   "execution_count": 9,
   "metadata": {},
   "outputs": [],
   "source": [
    "cols_translation = {'FACILITY NAME': ';facilityName',\n",
    "                   'COUNTRY': ';countryName', 'CITY_ID': ';CITY ID: ', 'SectorName': ';eprtrSectorName', \n",
    "                   'MainActivityCode':';EPRTRAnnexIMainActivityLabel', 'YEAR': ';reportingYear',\n",
    "                   'emissions': ';emissions', 'CITY': ';City', 'targetRealase': ';targetRelease',\n",
    "                   'METEOROLOGICAL CONDITIONS': ';', 'EPRTRSectorCode': '; EPRTRSectorCode'}\n",
    "same_cols = [item for item in list(train_1.columns) if item not in list(cols_translation.values())]\n",
    "numerical_cols = [\"emissions\", \"DAY\", \"MONTH\", \"reportingYear\", \"max_wind_speed\", \"min_wind_speed\", \"avg_wind_speed\", \n",
    "                  \"max_temp\", \"min_temp\", \"avg_temp\", \"DAYS FOG\"]\n",
    "\n",
    "directory = \"train6\"\n",
    "list_of_dfs = []\n",
    "idx = 0\n",
    "for filename in os.listdir(directory):\n",
    "    pdf_path = directory+\"/\"+filename\n",
    "    text = extract_text_from_pdf(pdf_path)\n",
    "    formatted_text = format_pdf(text)\n",
    "    pdf_dict = text_to_dict(formatted_text)\n",
    "    df = pd.DataFrame(pdf_dict, index=[idx])\n",
    "    list_of_dfs.append(df)\n",
    "    idx+=1\n",
    "    \n",
    "train_6 = pd.concat(list_of_dfs, axis=0)\n"
   ]
  },
  {
   "cell_type": "code",
   "execution_count": 10,
   "metadata": {},
   "outputs": [
    {
     "data": {
      "text/plain": [
       "Index(['CITY ID', 'CONTINENT', 'City', 'DAY', 'DAY WITH FOGS',\n",
       "       'EPRTRAnnexIMainActivityLabel', 'FacilityInspireID', 'MONTH',\n",
       "       'REPORTER NAME', 'avg_temp', 'avg_wind_speed', 'countryName',\n",
       "       'eprtrSectorName', 'facilityName', 'max_temp', 'max_wind_speed',\n",
       "       'min_temp', 'min_wind_speed', 'pollutant', 'reportingYear',\n",
       "       'targetRelease'],\n",
       "      dtype='object')"
      ]
     },
     "execution_count": 10,
     "metadata": {},
     "output_type": "execute_result"
    }
   ],
   "source": [
    "#sort columns by name\n",
    "train_6 = train_6.reindex(sorted(train_6.columns), axis=1)\n",
    "\n",
    "#drop unique columns to align with other dataframes\n",
    "train_6.drop('REPORT CONTAMINACIÓNnº', inplace=True, axis=1)\n",
    "train_6.drop('emissions', inplace=True, axis=1)\n",
    "train_6.drop(' EPRTRSectorCode', inplace=True, axis=1)\n",
    "\n",
    "#change DAYS FOG name to align with the other dataframes\n",
    "train_6.rename(columns = {'DAYS FOG':'DAY WITH FOGS'}, inplace = True)\n",
    "\n",
    "#remove notation from min_max and avg values to align with the other datasets\n",
    "\n",
    "cols_to_change = [\"max_temp\", \"max_wind_speed\", \"min_temp\", \"min_wind_speed\", \"avg_temp\", \"avg_wind_speed\"]\n",
    "\n",
    "def label_replace(row):\n",
    "    for i in cols_to_change: \n",
    "        a = [row[i].replace(',', '.')][0]\n",
    "        if 'E+15' in a:\n",
    "            a = float([a.replace('E+15', '')][0])\n",
    "        elif 'E+14' in a:\n",
    "            a = float([a.replace('E+14', '')][0]) * 0.1\n",
    "        elif 'E+16' in a:\n",
    "            a = float([a.replace('E+16', '')][0]) * 10.0\n",
    "        row[i] = a\n",
    "    return row\n",
    "\n",
    "\n",
    "train_6 = train_6.apply(lambda row: label_replace(row), axis=1)\n",
    "\n",
    "#print head\n",
    "train_6.head()\n",
    "\n",
    "#print columns\n",
    "train_6.columns"
   ]
  },
  {
   "cell_type": "markdown",
   "metadata": {},
   "source": [
    "## CONCATENATE 1-6"
   ]
  },
  {
   "cell_type": "code",
   "execution_count": 11,
   "metadata": {
    "scrolled": true
   },
   "outputs": [
    {
     "name": "stdout",
     "output_type": "stream",
     "text": [
      "(65710, 20)\n"
     ]
    }
   ],
   "source": [
    "#concatenate train datasets into one\n",
    "train = pd.concat( [train_1, train_2, train_3, train_4, train_5, train_6], axis = 0)\n",
    "\n",
    "#Drop city column due to having too many typos and missing values,since we already have city ID \n",
    "train.drop('City', inplace=True, axis=1)\n",
    "test_x.drop('City', inplace=True, axis=1)\n",
    "\n",
    "print(train.shape)"
   ]
  },
  {
   "cell_type": "code",
   "execution_count": 12,
   "metadata": {},
   "outputs": [
    {
     "name": "stdout",
     "output_type": "stream",
     "text": [
      "Index(['countryName', 'eprtrSectorName', 'EPRTRAnnexIMainActivityLabel',\n",
      "       'FacilityInspireID', 'facilityName', 'targetRelease', 'pollutant',\n",
      "       'reportingYear', 'MONTH', 'DAY', 'CONTINENT', 'max_wind_speed',\n",
      "       'avg_wind_speed', 'min_wind_speed', 'max_temp', 'avg_temp', 'min_temp',\n",
      "       'DAY WITH FOGS', 'REPORTER NAME', 'CITY ID'],\n",
      "      dtype='object')\n"
     ]
    }
   ],
   "source": [
    "print(train.columns)"
   ]
  },
  {
   "cell_type": "markdown",
   "metadata": {},
   "source": [
    "## Clean dataset"
   ]
  },
  {
   "cell_type": "code",
   "execution_count": 13,
   "metadata": {},
   "outputs": [
    {
     "data": {
      "text/html": [
       "<div>\n",
       "<style scoped>\n",
       "    .dataframe tbody tr th:only-of-type {\n",
       "        vertical-align: middle;\n",
       "    }\n",
       "\n",
       "    .dataframe tbody tr th {\n",
       "        vertical-align: top;\n",
       "    }\n",
       "\n",
       "    .dataframe thead th {\n",
       "        text-align: right;\n",
       "    }\n",
       "</style>\n",
       "<table border=\"1\" class=\"dataframe\">\n",
       "  <thead>\n",
       "    <tr style=\"text-align: right;\">\n",
       "      <th></th>\n",
       "      <th>countryName</th>\n",
       "      <th>eprtrSectorName</th>\n",
       "      <th>EPRTRAnnexIMainActivityLabel</th>\n",
       "      <th>FacilityInspireID</th>\n",
       "      <th>facilityName</th>\n",
       "      <th>targetRelease</th>\n",
       "      <th>pollutant</th>\n",
       "      <th>reportingYear</th>\n",
       "      <th>MONTH</th>\n",
       "      <th>DAY</th>\n",
       "      <th>CONTINENT</th>\n",
       "      <th>max_wind_speed</th>\n",
       "      <th>avg_wind_speed</th>\n",
       "      <th>min_wind_speed</th>\n",
       "      <th>max_temp</th>\n",
       "      <th>avg_temp</th>\n",
       "      <th>min_temp</th>\n",
       "      <th>DAY WITH FOGS</th>\n",
       "      <th>REPORTER NAME</th>\n",
       "      <th>CITY ID</th>\n",
       "    </tr>\n",
       "  </thead>\n",
       "  <tbody>\n",
       "    <tr>\n",
       "      <th>count</th>\n",
       "      <td>65710</td>\n",
       "      <td>65710</td>\n",
       "      <td>65710</td>\n",
       "      <td>65710</td>\n",
       "      <td>65710</td>\n",
       "      <td>65710</td>\n",
       "      <td>65710</td>\n",
       "      <td>65710</td>\n",
       "      <td>65710</td>\n",
       "      <td>65710</td>\n",
       "      <td>65710</td>\n",
       "      <td>65710</td>\n",
       "      <td>65710</td>\n",
       "      <td>65710</td>\n",
       "      <td>65710</td>\n",
       "      <td>65710</td>\n",
       "      <td>65710</td>\n",
       "      <td>65710</td>\n",
       "      <td>65710</td>\n",
       "      <td>65710</td>\n",
       "    </tr>\n",
       "    <tr>\n",
       "      <th>unique</th>\n",
       "      <td>32</td>\n",
       "      <td>9</td>\n",
       "      <td>81</td>\n",
       "      <td>7423</td>\n",
       "      <td>9321</td>\n",
       "      <td>1</td>\n",
       "      <td>3</td>\n",
       "      <td>28</td>\n",
       "      <td>24</td>\n",
       "      <td>56</td>\n",
       "      <td>1</td>\n",
       "      <td>61923</td>\n",
       "      <td>61915</td>\n",
       "      <td>61927</td>\n",
       "      <td>61931</td>\n",
       "      <td>61926</td>\n",
       "      <td>61924</td>\n",
       "      <td>40</td>\n",
       "      <td>45065</td>\n",
       "      <td>5138</td>\n",
       "    </tr>\n",
       "    <tr>\n",
       "      <th>top</th>\n",
       "      <td>United Kingdom</td>\n",
       "      <td>Energy sector</td>\n",
       "      <td>Thermal power stations and other combustion in...</td>\n",
       "      <td>https://data.ied_registry.omgeving.vlaanderen....</td>\n",
       "      <td>Enel Produzione S.p.A.</td>\n",
       "      <td>AIR</td>\n",
       "      <td>Nitrogen oxides (NOX)</td>\n",
       "      <td>2010</td>\n",
       "      <td>4</td>\n",
       "      <td>13</td>\n",
       "      <td>EUROPE</td>\n",
       "      <td>15.541420081620483</td>\n",
       "      <td>18.76132099596884</td>\n",
       "      <td>28.95354840561177</td>\n",
       "      <td>10.219241662229653</td>\n",
       "      <td>13.17967145167063</td>\n",
       "      <td>14.218888062873848</td>\n",
       "      <td>1</td>\n",
       "      <td>Michael Brown</td>\n",
       "      <td>cfab1ba8c67c7c838db98d666f02a132</td>\n",
       "    </tr>\n",
       "    <tr>\n",
       "      <th>freq</th>\n",
       "      <td>9098</td>\n",
       "      <td>24588</td>\n",
       "      <td>21527</td>\n",
       "      <td>42</td>\n",
       "      <td>234</td>\n",
       "      <td>65710</td>\n",
       "      <td>26002</td>\n",
       "      <td>3822</td>\n",
       "      <td>3991</td>\n",
       "      <td>1769</td>\n",
       "      <td>65710</td>\n",
       "      <td>5</td>\n",
       "      <td>5</td>\n",
       "      <td>5</td>\n",
       "      <td>5</td>\n",
       "      <td>5</td>\n",
       "      <td>5</td>\n",
       "      <td>13986</td>\n",
       "      <td>25</td>\n",
       "      <td>1975</td>\n",
       "    </tr>\n",
       "  </tbody>\n",
       "</table>\n",
       "</div>"
      ],
      "text/plain": [
       "           countryName eprtrSectorName  \\\n",
       "count            65710           65710   \n",
       "unique              32               9   \n",
       "top     United Kingdom   Energy sector   \n",
       "freq              9098           24588   \n",
       "\n",
       "                             EPRTRAnnexIMainActivityLabel  \\\n",
       "count                                               65710   \n",
       "unique                                                 81   \n",
       "top     Thermal power stations and other combustion in...   \n",
       "freq                                                21527   \n",
       "\n",
       "                                        FacilityInspireID  \\\n",
       "count                                               65710   \n",
       "unique                                               7423   \n",
       "top     https://data.ied_registry.omgeving.vlaanderen....   \n",
       "freq                                                   42   \n",
       "\n",
       "                  facilityName targetRelease              pollutant  \\\n",
       "count                    65710         65710                  65710   \n",
       "unique                    9321             1                      3   \n",
       "top     Enel Produzione S.p.A.           AIR  Nitrogen oxides (NOX)   \n",
       "freq                       234         65710                  26002   \n",
       "\n",
       "        reportingYear  MONTH    DAY CONTINENT      max_wind_speed  \\\n",
       "count           65710  65710  65710     65710               65710   \n",
       "unique             28     24     56         1               61923   \n",
       "top              2010      4     13    EUROPE  15.541420081620483   \n",
       "freq             3822   3991   1769     65710                   5   \n",
       "\n",
       "           avg_wind_speed     min_wind_speed            max_temp  \\\n",
       "count               65710              65710               65710   \n",
       "unique              61915              61927               61931   \n",
       "top     18.76132099596884  28.95354840561177  10.219241662229653   \n",
       "freq                    5                  5                   5   \n",
       "\n",
       "                 avg_temp            min_temp  DAY WITH FOGS  REPORTER NAME  \\\n",
       "count               65710               65710          65710          65710   \n",
       "unique              61926               61924             40          45065   \n",
       "top     13.17967145167063  14.218888062873848              1  Michael Brown   \n",
       "freq                    5                   5          13986             25   \n",
       "\n",
       "                                 CITY ID  \n",
       "count                              65710  \n",
       "unique                              5138  \n",
       "top     cfab1ba8c67c7c838db98d666f02a132  \n",
       "freq                                1975  "
      ]
     },
     "execution_count": 13,
     "metadata": {},
     "output_type": "execute_result"
    }
   ],
   "source": [
    "train.describe()"
   ]
  },
  {
   "cell_type": "code",
   "execution_count": 14,
   "metadata": {},
   "outputs": [],
   "source": [
    "# remove irrelevant cols \n",
    "cols_to_remove = ['CONTINENT', 'FacilityInspireID', 'facilityName', 'targetRelease', 'REPORTER NAME']\n",
    "def remove_cols(data):\n",
    "    df = data.drop(cols_to_remove, axis=1)\n",
    "    print(type(df))\n",
    "    return data.drop(cols_to_remove, axis=1)"
   ]
  },
  {
   "cell_type": "code",
   "execution_count": 15,
   "metadata": {},
   "outputs": [],
   "source": [
    "#change dataframe elements type to string and lowercase to detect duplicate entries\n",
    "def remove_dups(train):\n",
    "    train = train.astype('str')\n",
    "    for i in train.columns:\n",
    "        train[i] = train[i].str.lower()\n",
    "    #drop duplicate entries\n",
    "    train.drop_duplicates(subset=None, keep=\"first\", inplace=True)\n",
    "    return train"
   ]
  },
  {
   "cell_type": "code",
   "execution_count": 16,
   "metadata": {},
   "outputs": [],
   "source": [
    "# converting some columns to numerical labels\n",
    "le = preprocessing.LabelEncoder()"
   ]
  },
  {
   "cell_type": "code",
   "execution_count": 17,
   "metadata": {},
   "outputs": [],
   "source": [
    "categorical_cols = ['countryName', 'eprtrSectorName', 'EPRTRAnnexIMainActivityLabel', 'CITY ID']\n",
    "def transform_cols(data):\n",
    "    for col in categorical_cols:\n",
    "        LE = le.fit(data[col])\n",
    "        #transforming to integers\n",
    "        data[col]=LE.transform(data[[col]])\n",
    "    return data"
   ]
  },
  {
   "cell_type": "code",
   "execution_count": 18,
   "metadata": {},
   "outputs": [],
   "source": [
    "float_cols = ['avg_temp', 'avg_wind_speed', 'max_temp', 'max_wind_speed', 'min_temp', 'min_wind_speed', 'Pollutant code']\n",
    "def convert_float(data):\n",
    "    for col in float_cols:\n",
    "        data[col] = data[col].astype(float)\n",
    "    return data"
   ]
  },
  {
   "cell_type": "code",
   "execution_count": 19,
   "metadata": {},
   "outputs": [
    {
     "name": "stderr",
     "output_type": "stream",
     "text": [
      "C:\\Users\\carla\\anaconda3\\lib\\site-packages\\sklearn\\utils\\validation.py:72: DataConversionWarning: A column-vector y was passed when a 1d array was expected. Please change the shape of y to (n_samples, ), for example using ravel().\n",
      "  return f(**kwargs)\n"
     ]
    }
   ],
   "source": [
    "LE = le.fit(train['pollutant'])\n",
    "new_col = list(LE.transform(train[['pollutant']]))\n",
    "train.insert(loc=4, column='Pollutant code', value=new_col)"
   ]
  },
  {
   "cell_type": "code",
   "execution_count": 20,
   "metadata": {},
   "outputs": [
    {
     "name": "stdout",
     "output_type": "stream",
     "text": [
      "<class 'pandas.core.frame.DataFrame'>\n"
     ]
    }
   ],
   "source": [
    "train_clean = remove_cols(train)\n",
    "train_clean = remove_dups(train_clean)\n",
    "train_clean = transform_cols(train_clean)\n",
    "train_clean = convert_float(train_clean)"
   ]
  },
  {
   "cell_type": "code",
   "execution_count": 21,
   "metadata": {},
   "outputs": [],
   "source": [
    "\n",
    "#for i in float_cols:\n",
    "    #train_clean[i] = train_clean[(np.abs(stats.zscore(train_clean[i])) < 3)]\n"
   ]
  },
  {
   "cell_type": "code",
   "execution_count": 22,
   "metadata": {},
   "outputs": [
    {
     "name": "stdout",
     "output_type": "stream",
     "text": [
      "<class 'pandas.core.frame.DataFrame'>\n"
     ]
    }
   ],
   "source": [
    "float_cols = ['avg_temp', 'avg_wind_speed', 'max_temp', 'max_wind_speed', 'min_temp', 'min_wind_speed']\n",
    "\n",
    "test_clean = remove_cols(test_x)\n",
    "test_clean = remove_dups(test_clean)\n",
    "test_clean = transform_cols(test_clean)\n",
    "test_clean = test_clean.drop(['test_index', 'EPRTRSectorCode', 'EPRTRAnnexIMainActivityCode'], axis=1)\n",
    "test_clean = convert_float(test_clean)"
   ]
  },
  {
   "cell_type": "code",
   "execution_count": 23,
   "metadata": {},
   "outputs": [],
   "source": [
    "def min_max_scaling(column):\n",
    "    return (column - column.min()) / (column.max() - column.min())\n",
    "\n",
    "\n",
    "for col in float_cols:\n",
    "    train_clean[col] = min_max_scaling(train_clean[col])"
   ]
  },
  {
   "cell_type": "code",
   "execution_count": 24,
   "metadata": {},
   "outputs": [
    {
     "data": {
      "text/html": [
       "<div>\n",
       "<style scoped>\n",
       "    .dataframe tbody tr th:only-of-type {\n",
       "        vertical-align: middle;\n",
       "    }\n",
       "\n",
       "    .dataframe tbody tr th {\n",
       "        vertical-align: top;\n",
       "    }\n",
       "\n",
       "    .dataframe thead th {\n",
       "        text-align: right;\n",
       "    }\n",
       "</style>\n",
       "<table border=\"1\" class=\"dataframe\">\n",
       "  <thead>\n",
       "    <tr style=\"text-align: right;\">\n",
       "      <th></th>\n",
       "      <th>countryName</th>\n",
       "      <th>eprtrSectorName</th>\n",
       "      <th>EPRTRAnnexIMainActivityLabel</th>\n",
       "      <th>reportingYear</th>\n",
       "      <th>MONTH</th>\n",
       "      <th>DAY</th>\n",
       "      <th>max_wind_speed</th>\n",
       "      <th>avg_wind_speed</th>\n",
       "      <th>min_wind_speed</th>\n",
       "      <th>max_temp</th>\n",
       "      <th>avg_temp</th>\n",
       "      <th>min_temp</th>\n",
       "      <th>DAY WITH FOGS</th>\n",
       "      <th>CITY ID</th>\n",
       "    </tr>\n",
       "  </thead>\n",
       "  <tbody>\n",
       "    <tr>\n",
       "      <th>0</th>\n",
       "      <td>22</td>\n",
       "      <td>4</td>\n",
       "      <td>68</td>\n",
       "      <td>2017</td>\n",
       "      <td>8</td>\n",
       "      <td>16</td>\n",
       "      <td>14.080054</td>\n",
       "      <td>14.855940</td>\n",
       "      <td>18.474836</td>\n",
       "      <td>10.278561</td>\n",
       "      <td>11.381181</td>\n",
       "      <td>13.480752</td>\n",
       "      <td>1</td>\n",
       "      <td>2208</td>\n",
       "    </tr>\n",
       "    <tr>\n",
       "      <th>1</th>\n",
       "      <td>18</td>\n",
       "      <td>8</td>\n",
       "      <td>57</td>\n",
       "      <td>2008</td>\n",
       "      <td>11</td>\n",
       "      <td>22</td>\n",
       "      <td>16.052425</td>\n",
       "      <td>17.623877</td>\n",
       "      <td>22.622900</td>\n",
       "      <td>6.625910</td>\n",
       "      <td>8.840137</td>\n",
       "      <td>13.422924</td>\n",
       "      <td>0</td>\n",
       "      <td>4031</td>\n",
       "    </tr>\n",
       "    <tr>\n",
       "      <th>2</th>\n",
       "      <td>20</td>\n",
       "      <td>2</td>\n",
       "      <td>63</td>\n",
       "      <td>2014</td>\n",
       "      <td>9</td>\n",
       "      <td>19</td>\n",
       "      <td>13.647318</td>\n",
       "      <td>15.541979</td>\n",
       "      <td>17.818521</td>\n",
       "      <td>5.669436</td>\n",
       "      <td>8.403322</td>\n",
       "      <td>11.276388</td>\n",
       "      <td>2</td>\n",
       "      <td>2033</td>\n",
       "    </tr>\n",
       "    <tr>\n",
       "      <th>3</th>\n",
       "      <td>29</td>\n",
       "      <td>8</td>\n",
       "      <td>57</td>\n",
       "      <td>2011</td>\n",
       "      <td>7</td>\n",
       "      <td>17</td>\n",
       "      <td>16.336762</td>\n",
       "      <td>17.458113</td>\n",
       "      <td>19.961777</td>\n",
       "      <td>6.160560</td>\n",
       "      <td>7.571596</td>\n",
       "      <td>9.443572</td>\n",
       "      <td>2</td>\n",
       "      <td>659</td>\n",
       "    </tr>\n",
       "    <tr>\n",
       "      <th>4</th>\n",
       "      <td>23</td>\n",
       "      <td>2</td>\n",
       "      <td>63</td>\n",
       "      <td>2010</td>\n",
       "      <td>6</td>\n",
       "      <td>23</td>\n",
       "      <td>21.516602</td>\n",
       "      <td>20.532473</td>\n",
       "      <td>21.617137</td>\n",
       "      <td>10.964012</td>\n",
       "      <td>11.548033</td>\n",
       "      <td>12.624114</td>\n",
       "      <td>2</td>\n",
       "      <td>472</td>\n",
       "    </tr>\n",
       "  </tbody>\n",
       "</table>\n",
       "</div>"
      ],
      "text/plain": [
       "   countryName  eprtrSectorName  EPRTRAnnexIMainActivityLabel reportingYear  \\\n",
       "0           22                4                            68          2017   \n",
       "1           18                8                            57          2008   \n",
       "2           20                2                            63          2014   \n",
       "3           29                8                            57          2011   \n",
       "4           23                2                            63          2010   \n",
       "\n",
       "  MONTH DAY  max_wind_speed  avg_wind_speed  min_wind_speed   max_temp  \\\n",
       "0     8  16       14.080054       14.855940       18.474836  10.278561   \n",
       "1    11  22       16.052425       17.623877       22.622900   6.625910   \n",
       "2     9  19       13.647318       15.541979       17.818521   5.669436   \n",
       "3     7  17       16.336762       17.458113       19.961777   6.160560   \n",
       "4     6  23       21.516602       20.532473       21.617137  10.964012   \n",
       "\n",
       "    avg_temp   min_temp DAY WITH FOGS  CITY ID  \n",
       "0  11.381181  13.480752             1     2208  \n",
       "1   8.840137  13.422924             0     4031  \n",
       "2   8.403322  11.276388             2     2033  \n",
       "3   7.571596   9.443572             2      659  \n",
       "4  11.548033  12.624114             2      472  "
      ]
     },
     "execution_count": 24,
     "metadata": {},
     "output_type": "execute_result"
    }
   ],
   "source": [
    "test_clean.head()"
   ]
  },
  {
   "cell_type": "code",
   "execution_count": 25,
   "metadata": {},
   "outputs": [
    {
     "data": {
      "text/html": [
       "<div>\n",
       "<style scoped>\n",
       "    .dataframe tbody tr th:only-of-type {\n",
       "        vertical-align: middle;\n",
       "    }\n",
       "\n",
       "    .dataframe tbody tr th {\n",
       "        vertical-align: top;\n",
       "    }\n",
       "\n",
       "    .dataframe thead th {\n",
       "        text-align: right;\n",
       "    }\n",
       "</style>\n",
       "<table border=\"1\" class=\"dataframe\">\n",
       "  <thead>\n",
       "    <tr style=\"text-align: right;\">\n",
       "      <th></th>\n",
       "      <th>countryName</th>\n",
       "      <th>eprtrSectorName</th>\n",
       "      <th>EPRTRAnnexIMainActivityLabel</th>\n",
       "      <th>Pollutant code</th>\n",
       "      <th>pollutant</th>\n",
       "      <th>reportingYear</th>\n",
       "      <th>MONTH</th>\n",
       "      <th>DAY</th>\n",
       "      <th>max_wind_speed</th>\n",
       "      <th>avg_wind_speed</th>\n",
       "      <th>min_wind_speed</th>\n",
       "      <th>max_temp</th>\n",
       "      <th>avg_temp</th>\n",
       "      <th>min_temp</th>\n",
       "      <th>DAY WITH FOGS</th>\n",
       "      <th>CITY ID</th>\n",
       "    </tr>\n",
       "  </thead>\n",
       "  <tbody>\n",
       "    <tr>\n",
       "      <th>0</th>\n",
       "      <td>10</td>\n",
       "      <td>4</td>\n",
       "      <td>59</td>\n",
       "      <td>0.0</td>\n",
       "      <td>carbon dioxide (co2)</td>\n",
       "      <td>2015</td>\n",
       "      <td>10</td>\n",
       "      <td>20</td>\n",
       "      <td>0.655290</td>\n",
       "      <td>9.355987e-13</td>\n",
       "      <td>0.713477</td>\n",
       "      <td>0.247340</td>\n",
       "      <td>1.416146e-12</td>\n",
       "      <td>0.145485</td>\n",
       "      <td>2</td>\n",
       "      <td>2470</td>\n",
       "    </tr>\n",
       "    <tr>\n",
       "      <th>1</th>\n",
       "      <td>15</td>\n",
       "      <td>4</td>\n",
       "      <td>60</td>\n",
       "      <td>2.0</td>\n",
       "      <td>nitrogen oxides (nox)</td>\n",
       "      <td>2018</td>\n",
       "      <td>9</td>\n",
       "      <td>21</td>\n",
       "      <td>0.854200</td>\n",
       "      <td>1.270408e-12</td>\n",
       "      <td>0.724827</td>\n",
       "      <td>0.276729</td>\n",
       "      <td>1.583205e-12</td>\n",
       "      <td>0.181305</td>\n",
       "      <td>1</td>\n",
       "      <td>4129</td>\n",
       "    </tr>\n",
       "    <tr>\n",
       "      <th>2</th>\n",
       "      <td>28</td>\n",
       "      <td>8</td>\n",
       "      <td>68</td>\n",
       "      <td>1.0</td>\n",
       "      <td>methane (ch4)</td>\n",
       "      <td>2019</td>\n",
       "      <td>2</td>\n",
       "      <td>4</td>\n",
       "      <td>0.550672</td>\n",
       "      <td>9.613897e-13</td>\n",
       "      <td>0.568266</td>\n",
       "      <td>0.232027</td>\n",
       "      <td>1.376900e-12</td>\n",
       "      <td>0.129288</td>\n",
       "      <td>2</td>\n",
       "      <td>1581</td>\n",
       "    </tr>\n",
       "    <tr>\n",
       "      <th>3</th>\n",
       "      <td>5</td>\n",
       "      <td>2</td>\n",
       "      <td>74</td>\n",
       "      <td>2.0</td>\n",
       "      <td>nitrogen oxides (nox)</td>\n",
       "      <td>2012</td>\n",
       "      <td>8</td>\n",
       "      <td>6</td>\n",
       "      <td>0.512445</td>\n",
       "      <td>1.055469e-12</td>\n",
       "      <td>0.582845</td>\n",
       "      <td>0.339031</td>\n",
       "      <td>1.721497e-12</td>\n",
       "      <td>0.229707</td>\n",
       "      <td>0</td>\n",
       "      <td>1101</td>\n",
       "    </tr>\n",
       "    <tr>\n",
       "      <th>4</th>\n",
       "      <td>8</td>\n",
       "      <td>8</td>\n",
       "      <td>80</td>\n",
       "      <td>1.0</td>\n",
       "      <td>methane (ch4)</td>\n",
       "      <td>2018</td>\n",
       "      <td>12</td>\n",
       "      <td>22</td>\n",
       "      <td>0.742563</td>\n",
       "      <td>1.325603e-12</td>\n",
       "      <td>0.717411</td>\n",
       "      <td>0.348100</td>\n",
       "      <td>1.780914e-12</td>\n",
       "      <td>0.242895</td>\n",
       "      <td>2</td>\n",
       "      <td>1402</td>\n",
       "    </tr>\n",
       "  </tbody>\n",
       "</table>\n",
       "</div>"
      ],
      "text/plain": [
       "   countryName  eprtrSectorName  EPRTRAnnexIMainActivityLabel  Pollutant code  \\\n",
       "0           10                4                            59             0.0   \n",
       "1           15                4                            60             2.0   \n",
       "2           28                8                            68             1.0   \n",
       "3            5                2                            74             2.0   \n",
       "4            8                8                            80             1.0   \n",
       "\n",
       "               pollutant reportingYear MONTH DAY  max_wind_speed  \\\n",
       "0   carbon dioxide (co2)          2015    10  20        0.655290   \n",
       "1  nitrogen oxides (nox)          2018     9  21        0.854200   \n",
       "2          methane (ch4)          2019     2   4        0.550672   \n",
       "3  nitrogen oxides (nox)          2012     8   6        0.512445   \n",
       "4          methane (ch4)          2018    12  22        0.742563   \n",
       "\n",
       "   avg_wind_speed  min_wind_speed  max_temp      avg_temp  min_temp  \\\n",
       "0    9.355987e-13        0.713477  0.247340  1.416146e-12  0.145485   \n",
       "1    1.270408e-12        0.724827  0.276729  1.583205e-12  0.181305   \n",
       "2    9.613897e-13        0.568266  0.232027  1.376900e-12  0.129288   \n",
       "3    1.055469e-12        0.582845  0.339031  1.721497e-12  0.229707   \n",
       "4    1.325603e-12        0.717411  0.348100  1.780914e-12  0.242895   \n",
       "\n",
       "  DAY WITH FOGS  CITY ID  \n",
       "0             2     2470  \n",
       "1             1     4129  \n",
       "2             2     1581  \n",
       "3             0     1101  \n",
       "4             2     1402  "
      ]
     },
     "execution_count": 25,
     "metadata": {},
     "output_type": "execute_result"
    }
   ],
   "source": [
    "train_clean.head()"
   ]
  },
  {
   "cell_type": "markdown",
   "metadata": {},
   "source": [
    "# Data visualization"
   ]
  },
  {
   "cell_type": "code",
   "execution_count": 26,
   "metadata": {},
   "outputs": [
    {
     "data": {
      "image/png": "[encoded data removed]",
      "text/plain": [
       "<Figure size 432x288 with 2 Axes>"
      ]
     },
     "metadata": {
      "needs_background": "light"
     },
     "output_type": "display_data"
    },
    {
     "data": {
      "image/png": "[encoded data removed]",
      "text/plain": [
       "<Figure size 432x288 with 1 Axes>"
      ]
     },
     "metadata": {
      "needs_background": "light"
     },
     "output_type": "display_data"
    }
   ],
   "source": [
    "corrMatrix = train_clean.corr()\n",
    "sns.heatmap(corrMatrix, annot=True)\n",
    "plt.show()\n",
    "\n",
    "cols = list()\n",
    "for col in corrMatrix:\n",
    "    cols.append(col)\n",
    "\n",
    "cols = cols[:-1]\n",
    "fig = plt.figure()\n",
    "ax = fig.add_axes([0,0,1,1])\n",
    "\n",
    "corr_pol = corrMatrix['Pollutant code']\n",
    "corr_pol = corr_pol.drop('Pollutant code')\n",
    "values = corr_pol.tolist()\n",
    "\n",
    "ax.bar(cols, values)\n",
    "plt.title(\"Correlation with Pollutant code\")\n",
    "plt.xticks(rotation=90)\n",
    "plt.show()"
   ]
  },
  {
   "cell_type": "code",
   "execution_count": 27,
   "metadata": {},
   "outputs": [],
   "source": [
    "train_clean.drop('avg_temp', inplace=True, axis=1)\n",
    "train_clean.drop('max_temp', inplace=True, axis=1)\n",
    "train_clean.drop('min_wind_speed', inplace=True, axis=1)"
   ]
  },
  {
   "cell_type": "code",
   "execution_count": 28,
   "metadata": {},
   "outputs": [
    {
     "data": {
      "image/png": "[encoded data removed]",
      "text/plain": [
       "<Figure size 216x216 with 1 Axes>"
      ]
     },
     "metadata": {
      "needs_background": "light"
     },
     "output_type": "display_data"
    },
    {
     "data": {
      "image/png": "[encoded data removed]",
      "text/plain": [
       "<Figure size 216x216 with 1 Axes>"
      ]
     },
     "metadata": {
      "needs_background": "light"
     },
     "output_type": "display_data"
    },
    {
     "data": {
      "image/png": "[encoded data removed]",
      "text/plain": [
       "<Figure size 216x216 with 1 Axes>"
      ]
     },
     "metadata": {
      "needs_background": "light"
     },
     "output_type": "display_data"
    }
   ],
   "source": [
    "float_cols = ['avg_wind_speed', 'max_wind_speed', 'min_temp']\n",
    "\n",
    "for col in float_cols:\n",
    "    bins = np.linspace(train_clean[col].min(), train_clean[col].max(), 10)\n",
    "    g = sns.FacetGrid(train_clean,hue='Pollutant code', palette=\"Set1\")\n",
    "    g.map(plt.hist, col, bins=bins, ec=\"k\",  density=True,  alpha = 0.4)\n",
    "\n",
    "    plt.legend()\n",
    "    plt.show()"
   ]
  },
  {
   "cell_type": "markdown",
   "metadata": {},
   "source": [
    "# Train the model"
   ]
  },
  {
   "cell_type": "code",
   "execution_count": 29,
   "metadata": {},
   "outputs": [],
   "source": [
    "train_clean_ = train_clean.copy()\n",
    "train_clean_x = train_clean_.drop(['pollutant', 'Pollutant code'], axis=1)\n",
    "train_clean_y = train_clean_[['Pollutant code']]"
   ]
  },
  {
   "cell_type": "code",
   "execution_count": 30,
   "metadata": {},
   "outputs": [
    {
     "name": "stdout",
     "output_type": "stream",
     "text": [
      "Confussion matrix:\n",
      " [[2201  209 1836]\n",
      " [ 187 2573  256]\n",
      " [1814  264 2750]]\n",
      "Accuracy 0.6223325062034739\n",
      "              precision    recall  f1-score   support\n",
      "\n",
      "         0.0       0.52      0.52      0.52      4246\n",
      "         1.0       0.84      0.85      0.85      3016\n",
      "         2.0       0.57      0.57      0.57      4828\n",
      "\n",
      "    accuracy                           0.62     12090\n",
      "   macro avg       0.65      0.65      0.65     12090\n",
      "weighted avg       0.62      0.62      0.62     12090\n",
      "\n"
     ]
    }
   ],
   "source": [
    "X_train, X_test, y_train, y_test= train_test_split (train_clean_x, train_clean_y, test_size=0.20, random_state=42)\n",
    "\n",
    "model_DT = DecisionTreeClassifier()\n",
    "model_DT.fit(X_train, y_train)\n",
    "y_pred_DT=model_DT.predict(X_test)\n",
    "\n",
    "matrix_DT = confusion_matrix(y_test, y_pred_DT)\n",
    "print(\"Confussion matrix:\\n\", matrix_DT)\n",
    "\n",
    "result_DT = model_DT.score(X_test, y_test)\n",
    "print(\"Accuracy\", result_DT)\n",
    "\n",
    "report_DT= classification_report(y_test, y_pred_DT)\n",
    "print(report_DT)"
   ]
  },
  {
   "cell_type": "code",
   "execution_count": 31,
   "metadata": {},
   "outputs": [
    {
     "name": "stderr",
     "output_type": "stream",
     "text": [
      "<ipython-input-31-484d26dede2a>:2: DataConversionWarning: A column-vector y was passed when a 1d array was expected. Please change the shape of y to (n_samples,), for example using ravel().\n",
      "  RF.fit(X_train, y_train)\n"
     ]
    },
    {
     "name": "stdout",
     "output_type": "stream",
     "text": [
      "Accuracy:  0.6437551695616212\n",
      "Confussion matrix: \n",
      " [[2252   92 1902]\n",
      " [ 189 2579  248]\n",
      " [1747  129 2952]]\n",
      "              precision    recall  f1-score   support\n",
      "\n",
      "         0.0       0.54      0.53      0.53      4246\n",
      "         1.0       0.92      0.86      0.89      3016\n",
      "         2.0       0.58      0.61      0.59      4828\n",
      "\n",
      "    accuracy                           0.64     12090\n",
      "   macro avg       0.68      0.67      0.67     12090\n",
      "weighted avg       0.65      0.64      0.65     12090\n",
      "\n"
     ]
    }
   ],
   "source": [
    "RF = RandomForestClassifier()\n",
    "RF.fit(X_train, y_train)\n",
    "\n",
    "y_pred_RF = RF.predict(X_test)\n",
    "result_RF = RF.score(X_test, y_test)\n",
    "print(\"Accuracy: \", result_RF)\n",
    "matrix_RF = confusion_matrix(y_test, y_pred_RF)\n",
    "print(\"Confussion matrix: \\n\", matrix_RF)\n",
    "report_RF = classification_report(y_test, y_pred_RF)\n",
    "print(report_RF)\n",
    "\n"
   ]
  },
  {
   "cell_type": "code",
   "execution_count": 37,
   "metadata": {},
   "outputs": [
    {
     "name": "stderr",
     "output_type": "stream",
     "text": [
      "<ipython-input-37-734b809e3889>:4: DataConversionWarning: A column-vector y was passed when a 1d array was expected. Please change the shape of y to (n_samples, ), for example using ravel().\n",
      "  model.fit(X_train, y_train)\n"
     ]
    },
    {
     "name": "stdout",
     "output_type": "stream",
     "text": [
      "Confussion matrix:\n",
      " [[2221  185 1840]\n",
      " [ 422 2285  309]\n",
      " [2034  269 2525]]\n",
      "Accuracy 0.6223325062034739\n",
      "              precision    recall  f1-score   support\n",
      "\n",
      "         0.0       0.54      0.53      0.53      4246\n",
      "         1.0       0.92      0.86      0.89      3016\n",
      "         2.0       0.58      0.61      0.59      4828\n",
      "\n",
      "    accuracy                           0.64     12090\n",
      "   macro avg       0.68      0.67      0.67     12090\n",
      "weighted avg       0.65      0.64      0.65     12090\n",
      "\n"
     ]
    }
   ],
   "source": [
    "model = KNeighborsClassifier(n_neighbors=3)\n",
    "\n",
    "# Train the model using the training sets\n",
    "model.fit(X_train, y_train)\n",
    "\n",
    "#Predict Output\n",
    "y_pred_KNN = model.predict(X_test) # 0:Overcast, 2:Mild\n",
    "matrix_DT = confusion_matrix(y_test, y_pred_KNN)\n",
    "print(\"Confussion matrix:\\n\", matrix_DT)\n",
    "\n",
    "result_DT = model_DT.score(X_test, y_test)\n",
    "print(\"Accuracy\", result_DT)\n",
    "report_RF = classification_report(y_test, y_pred_RF)\n",
    "print(report_RF)\n",
    "\n",
    "savetxt('predictions.csv', y_pred_KNN, delimiter=',')\n",
    "\n",
    "lists = y_pred_KNN.tolist()\n",
    "json_str = json.dumps(lists)\n",
    "\n",
    "jsonFile = open(\"predictions.json\", \"w\")\n",
    "jsonFile.write(json_str)\n",
    "jsonFile.close()\n"
   ]
  },
  {
   "cell_type": "code",
   "execution_count": 38,
   "metadata": {},
   "outputs": [
    {
     "name": "stderr",
     "output_type": "stream",
     "text": [
      "C:\\Users\\carla\\anaconda3\\lib\\site-packages\\sklearn\\utils\\validation.py:72: DataConversionWarning: A column-vector y was passed when a 1d array was expected. Please change the shape of y to (n_samples, ), for example using ravel().\n",
      "  return f(**kwargs)\n"
     ]
    },
    {
     "name": "stdout",
     "output_type": "stream",
     "text": [
      "Accuracy: 0.6177005789909016\n",
      "Confusion matrix: \n",
      " [[1831   64 2351]\n",
      " [ 146 2480  390]\n",
      " [1570  101 3157]]\n",
      "              precision    recall  f1-score   support\n",
      "\n",
      "         0.0       0.54      0.53      0.53      4246\n",
      "         1.0       0.92      0.86      0.89      3016\n",
      "         2.0       0.58      0.61      0.59      4828\n",
      "\n",
      "    accuracy                           0.64     12090\n",
      "   macro avg       0.68      0.67      0.67     12090\n",
      "weighted avg       0.65      0.64      0.65     12090\n",
      "\n"
     ]
    }
   ],
   "source": [
    "model_GBT = GradientBoostingClassifier()\n",
    "model_GBT.fit(X_train, y_train)\n",
    "y_pred_GBT = model_GBT.predict(X_test)\n",
    "\n",
    "result_GBT = model_GBT.score(X_test, y_test)\n",
    "print(\"Accuracy:\", result_GBT)\n",
    "matrix_GBT = confusion_matrix(y_test, y_pred_GBT)\n",
    "print(\"Confusion matrix: \\n\", matrix_GBT)\n",
    "report_RF = classification_report(y_test, y_pred_RF)\n",
    "print(report_RF)"
   ]
  },
  {
   "cell_type": "markdown",
   "metadata": {},
   "source": [
    "### Trying with deep net"
   ]
  },
  {
   "cell_type": "code",
   "execution_count": 39,
   "metadata": {},
   "outputs": [],
   "source": [
    "class MLP_PyTorch(nn.Module):\n",
    "    def __init__(self,inputNode=11,hiddenNode = 3, outputNode=1):   \n",
    "        super(MLP_PyTorch, self).__init__()     \n",
    "        #Define Hyperparameters\n",
    "        self.inputLayerSize = inputNode\n",
    "        self.outputLayerSize = outputNode\n",
    "        self.hiddenLayerSize = hiddenNode\n",
    "        \n",
    "        # Initialize two modules implementing the two linear layers of the MLP\n",
    "        self.W1 = nn.Linear(self.inputLayerSize, self.hiddenLayerSize) \n",
    "        #self.W1.requires_grad_() \n",
    "        self.W2 = nn.Linear(self.hiddenLayerSize, self.outputLayerSize)\n",
    "        #self.W2.requires_grad_()\n",
    "\n",
    "        \n",
    "        self.Softmax = nn.Softmax(dim=1) # Module implementing the sigmoid funciton\n",
    "        #self.sigmoid.requires_grad_()\n",
    "        self.loss = nn.CrossEntropyLoss() \n",
    "\n",
    "    # Define the forward pass of the module using the sub-modules declared in the initializer\n",
    "    def forward(self, X):\n",
    "        out = self.W1.forward(X) # First Linear Layer   \n",
    "        out = self.Softmax.forward(out) # activation function\n",
    "        out = self.W2.forward(out) # Second Linear Layer   \n",
    "        y_hat = self.Softmax.forward(out) # final activation function\n",
    "        return y_hat"
   ]
  },
  {
   "cell_type": "code",
   "execution_count": 40,
   "metadata": {},
   "outputs": [],
   "source": [
    "def train_PyTorch(NN,X, y,epoch = 5000,lr = .01,optimizer = None):\n",
    "    list_loss = []\n",
    "    for i in range(epoch):\n",
    "        # reset optimizer at each epoch\n",
    "        optimizer.zero_grad()\n",
    "\n",
    "        # Process the dataset with the forward pass\n",
    "        yHat = NN.forward(X)\n",
    "        \n",
    "        # and compute the loss function\n",
    "        loss_val = NN.loss(yHat.float(),y.float())\n",
    "        # Automatically compute the gradients\n",
    "        loss_val.backward()\n",
    "        \n",
    "        # Call the optimizer to update the paramters\n",
    "        optimizer.step()\n",
    "        \n",
    "        # Print loss and save the value at each iteration\n",
    "        if i%500 == 0 : \n",
    "            print(yHat)\n",
    "            print('Loss {}={}'.format(i,loss_val)) # \" Accuracy = \"+str(torch_accuracy(torch_threshold(yHat, 0.5), y)))\n",
    "        list_loss.append(loss_val.item())\n",
    "    print('Loss {}={}'.format(i,loss_val)) #\" Accuracy = \"+str(torch_accuracy(torch_threshold(yHat, 0.5), y)))  \n",
    "    return list_loss"
   ]
  },
  {
   "cell_type": "code",
   "execution_count": 41,
   "metadata": {},
   "outputs": [],
   "source": [
    "def torch_accuracy(yhat, y):\n",
    "    a = 0\n",
    "    for i in range(y.size(dim=0)):\n",
    "        if yhat[i] == y[i]:\n",
    "            a = a + 1\n",
    "            a = a/y.size(dim=0)\n",
    "    return a"
   ]
  },
  {
   "cell_type": "code",
   "execution_count": 42,
   "metadata": {},
   "outputs": [],
   "source": [
    "X_mat = torch.tensor(np.array(X_train.astype('f')))\n"
   ]
  },
  {
   "cell_type": "code",
   "execution_count": 43,
   "metadata": {},
   "outputs": [],
   "source": [
    "X_train = torch.tensor(np.array(X_train.astype('f')))\n",
    "y_train = torch.tensor(np.array(y_train.astype('f')))\n",
    "X_test = torch.tensor(np.array(X_test.astype('f')))\n",
    "y_test = torch.tensor(np.array(y_test.astype('f')))\n"
   ]
  },
  {
   "cell_type": "code",
   "execution_count": 44,
   "metadata": {},
   "outputs": [
    {
     "name": "stdout",
     "output_type": "stream",
     "text": [
      "tensor([[0.],\n",
      "        [0.],\n",
      "        [0.],\n",
      "        ...,\n",
      "        [0.],\n",
      "        [0.],\n",
      "        [2.]])\n"
     ]
    }
   ],
   "source": [
    "print(y_train)"
   ]
  },
  {
   "cell_type": "code",
   "execution_count": null,
   "metadata": {},
   "outputs": [
    {
     "name": "stdout",
     "output_type": "stream",
     "text": [
      "tensor([[1.],\n",
      "        [1.],\n",
      "        [1.],\n",
      "        ...,\n",
      "        [1.],\n",
      "        [1.],\n",
      "        [1.]], grad_fn=<SoftmaxBackward0>)\n",
      "Loss 0=-0.0\n",
      "tensor([[1.],\n",
      "        [1.],\n",
      "        [1.],\n",
      "        ...,\n",
      "        [1.],\n",
      "        [1.],\n",
      "        [1.]], grad_fn=<SoftmaxBackward0>)\n",
      "Loss 500=-0.0\n",
      "tensor([[1.],\n",
      "        [1.],\n",
      "        [1.],\n",
      "        ...,\n",
      "        [1.],\n",
      "        [1.],\n",
      "        [1.]], grad_fn=<SoftmaxBackward0>)\n",
      "Loss 1000=-0.0\n",
      "tensor([[1.],\n",
      "        [1.],\n",
      "        [1.],\n",
      "        ...,\n",
      "        [1.],\n",
      "        [1.],\n",
      "        [1.]], grad_fn=<SoftmaxBackward0>)\n",
      "Loss 1500=-0.0\n",
      "tensor([[1.],\n",
      "        [1.],\n",
      "        [1.],\n",
      "        ...,\n",
      "        [1.],\n",
      "        [1.],\n",
      "        [1.]], grad_fn=<SoftmaxBackward0>)\n",
      "Loss 2000=-0.0\n",
      "tensor([[1.],\n",
      "        [1.],\n",
      "        [1.],\n",
      "        ...,\n",
      "        [1.],\n",
      "        [1.],\n",
      "        [1.]], grad_fn=<SoftmaxBackward0>)\n",
      "Loss 2500=-0.0\n"
     ]
    }
   ],
   "source": [
    "# Initialize a Pytorch MLP\n",
    "NN = MLP_PyTorch()\n",
    "\n",
    "optimizer = torch.optim.SGD(NN.parameters(), lr=.01) \n",
    "\n",
    "#Train MLP using Pytorch:\n",
    "list_loss = train_PyTorch(NN,X_train,y_train,optimizer = optimizer)\n",
    "print(y_train)\n",
    "# Plot the evolution of the loss function during training\n",
    "plt.plot(list_loss)\n",
    "plt.xlabel('Iterations')\n",
    "plt.ylabel('Loss Val')"
   ]
  }
 ],
 "metadata": {
  "kernelspec": {
   "display_name": "Python 3",
   "language": "python",
   "name": "python3"
  },
  "language_info": {
   "codemirror_mode": {
    "name": "ipython",
    "version": 3
   },
   "file_extension": ".py",
   "mimetype": "text/x-python",
   "name": "python",
   "nbconvert_exporter": "python",
   "pygments_lexer": "ipython3",
   "version": "3.8.5"
  }
 },
 "nbformat": 4,
 "nbformat_minor": 4
}
